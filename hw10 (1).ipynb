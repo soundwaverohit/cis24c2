{
 "cells": [
  {
   "cell_type": "markdown",
   "metadata": {},
   "source": [
    "\n",
    "# CIS024C - Spring 2018 - Monday 5:30-9:25pm \n",
    "\n",
    "## Homework 10\n",
    "\n",
    "Homework 8 covers exercises involving  external libraries, creating user defined libraries and working with command line arguments.\n",
    "\n",
    "The below sites have some interesting and useful information on these topics\n",
    "\n",
    "https://docs.python.org/2/library/index.html\n",
    "http://www.pythonforbeginners.com/argv/more-fun-with-sys-argv\n",
    "https://docs.python.org/2/library/argparse.html\n",
    "\n",
    "You will need to download this notebook and use this as a starting point for your homework. You will just need to fill in the content of each code-block (cell) and execute. Once you have completed all the exercises, you will need to save and upload this to your github repository under a folder called hw7.\n",
    "\n",
    "Note also the exercises build on top of one another so you might be able to do the next exercise if you have not completed the previous exercise.\n",
    "\n",
    "Post any questions you have on our Slack at **cis-024c1.slack.com**\n",
    "\n",
    "Slides - https://docs.google.com/presentation/d/15v1bLJ5ek5Z8mY3bZDOj67o4H3Ojhxuk-8ICI_FY6O4\n",
    "\n",
    "**Please refer back to hw1 and slack for instructions on how to setup your computer for developing using Python.**"
   ]
  },
  {
   "cell_type": "markdown",
   "metadata": {},
   "source": [
    "### Helpful Jupyter Commands\n",
    "\n",
    "Below are some useful commands to know when using Jupyter\n",
    "\n",
    "1. You can add a new cell by clicking on the \"+\" icon on top.\n",
    "2. You can delete a cell by selecting that cell and clicking on the \"scissors\" icon on top.\n",
    "3. You can execute a cell by either pressing shift+enter or selecting the \"play\" button on top.\n",
    "4. You can create a new file in Jupyter via the File menu->New Notebook option. Make sure to select Python 2 when creating your notebook.\n",
    "5. Also, for your code blocks make sure that Code is selected instead of another option like Markdown.\n",
    "6. Use the Enter key to go to the next line in a cell to enter the next statement.\n",
    "7. You can clear results by clicking on the Cell menu item and selecting Current Output->Clear or All Output->Clear depending on whether you are trying to just clear the output for one cell or for all cells.\n",
    "8. In case your program has crashed for some reason (infinite loop, for example), you can restart your Python session by select Kernel in the menu and selecting Restart.\n"
   ]
  },
  {
   "cell_type": "markdown",
   "metadata": {},
   "source": [
    "#### Check Python Version"
   ]
  },
  {
   "cell_type": "code",
   "execution_count": 27,
   "metadata": {},
   "outputs": [
    {
     "name": "stdout",
     "output_type": "stream",
     "text": [
      "Python 3.6.5 :: Anaconda, Inc.\r\n"
     ]
    }
   ],
   "source": [
    "!python --version"
   ]
  },
  {
   "cell_type": "markdown",
   "metadata": {},
   "source": [
    "**Exercise 1 - Testing your knowledge of Command Line arguments **\n",
    "\n",
    "Answer the below questions\n",
    "\n",
    "1. Describe the purpose of the sys.argv variable\n",
    "2. What are the key differences between using the command prompt console and the jupyter console?"
   ]
  },
  {
   "cell_type": "markdown",
   "metadata": {},
   "source": [
    "1. sys.argv is a list in Python which contains the command-line arguments passed to the script when doing the code.\n",
    "2. The key difference is that jupyter can compile code and tell where u are wrong whereas command prompt doesn'tWhat are the key differences between using the command prompt console and the jupyter console?"
   ]
  },
  {
   "cell_type": "markdown",
   "metadata": {},
   "source": [
    "#### Exercise 2 - Command Line programs with multiple modules using sys.argv\n",
    "\n",
    "Write a Python program to add two numbers. \n",
    "\n",
    "Your Python program must have a function called **add** that is placed in a separate module called **helper.py**. \n",
    "\n",
    "Your main program, which is also a standalone Python program **main.py** must import **helper.py** and use this module to add the two numbers. \n",
    "\n",
    "The numbers to be added must be passed via the command line. You could use either argv or argparse for accepting command line arguments.\n",
    "\n",
    "Here is an example of how your program would be invoked assuming the numbers to be added are 3 and 2\n",
    "\n",
    "**python main.py 3 2**\n"
   ]
  },
  {
   "cell_type": "code",
   "execution_count": 26,
   "metadata": {},
   "outputs": [
    {
     "name": "stdout",
     "output_type": "stream",
     "text": [
      "Overwriting helper.py\n"
     ]
    }
   ],
   "source": [
    "%%writefile helper.py\n",
    "def add(number1, number2):\n",
    "    number1= int(2)\n",
    "    number2= int(3)\n",
    "    result= number1+number2\n",
    "print(result)"
   ]
  },
  {
   "cell_type": "code",
   "execution_count": 18,
   "metadata": {},
   "outputs": [
    {
     "name": "stdout",
     "output_type": "stream",
     "text": [
      "5\r\n"
     ]
    }
   ],
   "source": [
    "!python helper.py 2 3"
   ]
  },
  {
   "cell_type": "markdown",
   "metadata": {},
   "source": [
    "#### Exercise 3 - Command Line programs using Argparser\n",
    "\n",
    "Repeat Exercise 2 using the argparser module\n"
   ]
  },
  {
   "cell_type": "code",
   "execution_count": 20,
   "metadata": {},
   "outputs": [
    {
     "name": "stdout",
     "output_type": "stream",
     "text": [
      "Writing main.py\n"
     ]
    }
   ],
   "source": [
    "%%writefile main.py\n",
    "import sys\n",
    "number1= int(sys.argv[1])\n",
    "number2= int(sys.argv[2])\n",
    "result= number1+number2\n",
    "print(result)\n",
    "import argparse\n",
    "parser= argparse.ArgumentParser()\n",
    "parser.add_argument(2,3)\n",
    "args = parser.parse_args()\n",
    "print(args.echo)"
   ]
  },
  {
   "cell_type": "code",
   "execution_count": 21,
   "metadata": {},
   "outputs": [
    {
     "name": "stdout",
     "output_type": "stream",
     "text": [
      "5\n",
      "Traceback (most recent call last):\n",
      "  File \"main.py\", line 8, in <module>\n",
      "    parser.add_argument(2,3)\n",
      "  File \"/Users/anuradhaganti/anaconda3/lib/python3.6/argparse.py\", line 1320, in add_argument\n",
      "    kwargs = self._get_optional_kwargs(*args, **kwargs)\n",
      "  File \"/Users/anuradhaganti/anaconda3/lib/python3.6/argparse.py\", line 1446, in _get_optional_kwargs\n",
      "    if not option_string[0] in self.prefix_chars:\n",
      "TypeError: 'int' object is not subscriptable\n"
     ]
    }
   ],
   "source": [
    "!python main.py 2 3"
   ]
  },
  {
   "cell_type": "markdown",
   "metadata": {},
   "source": [
    "#### Exercise 4 - Specifying default arguments for the argparser\n",
    "\n",
    "Write a python program display_text.py that prints text given by the user with the --text option. If no text is given, the program should default \"No text provided\". Set the help text for --text to be \"enter some text here in quotes\"\n",
    "\n",
    "The program should execute like below\n",
    "\n",
    "python display_text.py --text=\"Jack and Jill\"\n",
    "\n",
    "Jack and Jill"
   ]
  },
  {
   "cell_type": "code",
   "execution_count": 49,
   "metadata": {},
   "outputs": [
    {
     "name": "stdout",
     "output_type": "stream",
     "text": [
      "Overwriting display_text.py\n"
     ]
    }
   ],
   "source": [
    "%%writefile display_text.py\n",
    "import argparse\n",
    "parser= argparse.ArgumentParser()\n",
    "parser.add_argument(\"--text\", default= \"no text entered\", help=\"Enter some text here \")\n",
    "args= parser.parse_args()\n",
    "if args.text()!=default:\n",
    "    result= args.text\n",
    "else:\n",
    "    result= default\n",
    "print (result)"
   ]
  },
  {
   "cell_type": "code",
   "execution_count": 50,
   "metadata": {},
   "outputs": [
    {
     "name": "stdout",
     "output_type": "stream",
     "text": [
      "Traceback (most recent call last):\r\n",
      "  File \"display_text.py\", line 5, in <module>\r\n",
      "    if args.text()!=default:\r\n",
      "TypeError: 'str' object is not callable\r\n"
     ]
    }
   ],
   "source": [
    "!python display_text.py"
   ]
  },
  {
   "cell_type": "markdown",
   "metadata": {},
   "source": [
    "#### Exercise 5 - Specifying boolean arguments via argparser\n",
    "\n",
    "Repeat Exercise 5, this time add a boolean argument called \"verbose\". If the user sets the verbose option, then display the value of args.text and args.verbose.\n",
    "\n",
    "For example,\n",
    "\n",
    "python display_text.py --text=\"Jack and Jill\"\n",
    "\n",
    "Jack and Jill\n",
    "\n",
    "python display_text.py --text=\"Jack and Jill\" --verbose\n",
    "\n",
    "args.text = \"Jack and Jill\"\n",
    "args.verbose = True\n",
    "\n",
    "Jack and Jill"
   ]
  },
  {
   "cell_type": "code",
   "execution_count": 51,
   "metadata": {},
   "outputs": [
    {
     "name": "stdout",
     "output_type": "stream",
     "text": [
      "Writing ap.py\n"
     ]
    }
   ],
   "source": [
    "%%writefile ap.py\n",
    "import argparse\n",
    "parser= argparse.ArgumentParser()\n",
    "parser.add_argument(\"--text\", default= \"no text entered\", help=\"Enter some text here \")\n",
    "parser.add_argument(\"--verbose\",default= False, help=\"Do you want the verbose function on(True or False)\")\n",
    "args=parser.parse_args()\n",
    "if args.verbose==True:\n",
    "    args.text()=args.verbose\n",
    "    result= args.text\n",
    "else:\n",
    "    result= args.text\n",
    "print(result)"
   ]
  },
  {
   "cell_type": "markdown",
   "metadata": {},
   "source": [
    "# Optional Questions"
   ]
  },
  {
   "cell_type": "markdown",
   "metadata": {
    "collapsed": true
   },
   "source": [
    "#### Exercise 6 - Python program with multiple modules to sort a list of numbers\n",
    "\n",
    "Write a Python program to sort a list of numbers in ascending order. Your Python program must have a function called **sortNumbers** that is placed in a separate module called **sorthelper.py**. This function **sortNumbers** accepts a **list** of numbers. Your main program, which is also a standalone Python program **main.py** must import **sorthelper.py** and use this module to sort the numbers. \n",
    "\n",
    "The numbers to be sorted must be passed via the command line using argparse.\n",
    "\n",
    "Here is an example of how your program would be invoked assuming the numbers to be sorted are 5 4 3 and 8\n",
    "\n",
    "**python main.py 5 4 3 8**\n",
    "\n",
    "Hint: Use https://docs.python.org/3/library/argparse.html to figure out how to accept a list of numbers"
   ]
  },
  {
   "cell_type": "code",
   "execution_count": null,
   "metadata": {},
   "outputs": [],
   "source": [
    "### YOUR CODE GOES BELOW\n",
    "\n",
    "\n",
    "### END CODE"
   ]
  }
 ],
 "metadata": {
  "kernelspec": {
   "display_name": "Python 3",
   "language": "python",
   "name": "python3"
  },
  "language_info": {
   "codemirror_mode": {
    "name": "ipython",
    "version": 3
   },
   "file_extension": ".py",
   "mimetype": "text/x-python",
   "name": "python",
   "nbconvert_exporter": "python",
   "pygments_lexer": "ipython3",
   "version": "3.6.5"
  }
 },
 "nbformat": 4,
 "nbformat_minor": 2
}
